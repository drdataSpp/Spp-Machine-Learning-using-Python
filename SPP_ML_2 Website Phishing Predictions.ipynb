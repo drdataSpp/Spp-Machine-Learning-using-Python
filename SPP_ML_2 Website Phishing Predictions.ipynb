{
 "cells": [
  {
   "cell_type": "code",
   "execution_count": 21,
   "metadata": {},
   "outputs": [],
   "source": [
    "import numpy as np\n",
    "import pandas as pd\n",
    "import matplotlib.pyplot as plt\n",
    "%matplotlib inline\n",
    "import seaborn as sns"
   ]
  },
  {
   "cell_type": "code",
   "execution_count": 22,
   "metadata": {},
   "outputs": [],
   "source": [
    "#Loading the Dataset\n",
    "phishing_data  = pd.read_csv(\"https://raw.githubusercontent.com/dphi-official/Datasets/master/phishing_data/Training_set_label.csv\" )"
   ]
  },
  {
   "cell_type": "code",
   "execution_count": 23,
   "metadata": {},
   "outputs": [
    {
     "data": {
      "text/html": [
       "<div>\n",
       "<style scoped>\n",
       "    .dataframe tbody tr th:only-of-type {\n",
       "        vertical-align: middle;\n",
       "    }\n",
       "\n",
       "    .dataframe tbody tr th {\n",
       "        vertical-align: top;\n",
       "    }\n",
       "\n",
       "    .dataframe thead th {\n",
       "        text-align: right;\n",
       "    }\n",
       "</style>\n",
       "<table border=\"1\" class=\"dataframe\">\n",
       "  <thead>\n",
       "    <tr style=\"text-align: right;\">\n",
       "      <th></th>\n",
       "      <th>url</th>\n",
       "      <th>length_url</th>\n",
       "      <th>length_hostname</th>\n",
       "      <th>ip</th>\n",
       "      <th>nb_dots</th>\n",
       "      <th>nb_hyphens</th>\n",
       "      <th>nb_at</th>\n",
       "      <th>nb_qm</th>\n",
       "      <th>nb_and</th>\n",
       "      <th>nb_or</th>\n",
       "      <th>...</th>\n",
       "      <th>domain_in_title</th>\n",
       "      <th>domain_with_copyright</th>\n",
       "      <th>whois_registered_domain</th>\n",
       "      <th>domain_registration_length</th>\n",
       "      <th>domain_age</th>\n",
       "      <th>web_traffic</th>\n",
       "      <th>dns_record</th>\n",
       "      <th>google_index</th>\n",
       "      <th>page_rank</th>\n",
       "      <th>status</th>\n",
       "    </tr>\n",
       "  </thead>\n",
       "  <tbody>\n",
       "    <tr>\n",
       "      <th>0</th>\n",
       "      <td>http://www.progarchives.com/album.asp?id=61737</td>\n",
       "      <td>46</td>\n",
       "      <td>20</td>\n",
       "      <td>zero</td>\n",
       "      <td>3</td>\n",
       "      <td>zero</td>\n",
       "      <td>0</td>\n",
       "      <td>1</td>\n",
       "      <td>0</td>\n",
       "      <td>0</td>\n",
       "      <td>...</td>\n",
       "      <td>1</td>\n",
       "      <td>one</td>\n",
       "      <td>0</td>\n",
       "      <td>627</td>\n",
       "      <td>6678</td>\n",
       "      <td>78526</td>\n",
       "      <td>0</td>\n",
       "      <td>0</td>\n",
       "      <td>5</td>\n",
       "      <td>phishing</td>\n",
       "    </tr>\n",
       "    <tr>\n",
       "      <th>1</th>\n",
       "      <td>http://signin.eday.co.uk.ws.edayisapi.dllsign....</td>\n",
       "      <td>128</td>\n",
       "      <td>120</td>\n",
       "      <td>0</td>\n",
       "      <td>10</td>\n",
       "      <td>0</td>\n",
       "      <td>0</td>\n",
       "      <td>0</td>\n",
       "      <td>0</td>\n",
       "      <td>0</td>\n",
       "      <td>...</td>\n",
       "      <td>1</td>\n",
       "      <td>zero</td>\n",
       "      <td>0</td>\n",
       "      <td>300</td>\n",
       "      <td>65</td>\n",
       "      <td>0</td>\n",
       "      <td>0</td>\n",
       "      <td>1</td>\n",
       "      <td>0</td>\n",
       "      <td>phishing</td>\n",
       "    </tr>\n",
       "    <tr>\n",
       "      <th>2</th>\n",
       "      <td>http://www.avevaconstruction.com/blesstool/ima...</td>\n",
       "      <td>52</td>\n",
       "      <td>25</td>\n",
       "      <td>0</td>\n",
       "      <td>3</td>\n",
       "      <td>0</td>\n",
       "      <td>0</td>\n",
       "      <td>0</td>\n",
       "      <td>0</td>\n",
       "      <td>0</td>\n",
       "      <td>...</td>\n",
       "      <td>1</td>\n",
       "      <td>zero</td>\n",
       "      <td>0</td>\n",
       "      <td>119</td>\n",
       "      <td>1707</td>\n",
       "      <td>0</td>\n",
       "      <td>0</td>\n",
       "      <td>1</td>\n",
       "      <td>0</td>\n",
       "      <td>phishing</td>\n",
       "    </tr>\n",
       "    <tr>\n",
       "      <th>3</th>\n",
       "      <td>http://www.jp519.com/</td>\n",
       "      <td>21</td>\n",
       "      <td>13</td>\n",
       "      <td>0</td>\n",
       "      <td>2</td>\n",
       "      <td>0</td>\n",
       "      <td>0</td>\n",
       "      <td>0</td>\n",
       "      <td>0</td>\n",
       "      <td>0</td>\n",
       "      <td>...</td>\n",
       "      <td>1</td>\n",
       "      <td>one</td>\n",
       "      <td>0</td>\n",
       "      <td>130</td>\n",
       "      <td>1331</td>\n",
       "      <td>0</td>\n",
       "      <td>0</td>\n",
       "      <td>0</td>\n",
       "      <td>0</td>\n",
       "      <td>legitimate</td>\n",
       "    </tr>\n",
       "    <tr>\n",
       "      <th>4</th>\n",
       "      <td>https://www.velocidrone.com/</td>\n",
       "      <td>28</td>\n",
       "      <td>19</td>\n",
       "      <td>0</td>\n",
       "      <td>2</td>\n",
       "      <td>0</td>\n",
       "      <td>0</td>\n",
       "      <td>0</td>\n",
       "      <td>0</td>\n",
       "      <td>0</td>\n",
       "      <td>...</td>\n",
       "      <td>0</td>\n",
       "      <td>zero</td>\n",
       "      <td>0</td>\n",
       "      <td>164</td>\n",
       "      <td>1662</td>\n",
       "      <td>312044</td>\n",
       "      <td>0</td>\n",
       "      <td>0</td>\n",
       "      <td>4</td>\n",
       "      <td>legitimate</td>\n",
       "    </tr>\n",
       "  </tbody>\n",
       "</table>\n",
       "<p>5 rows × 89 columns</p>\n",
       "</div>"
      ],
      "text/plain": [
       "                                                 url  length_url  \\\n",
       "0     http://www.progarchives.com/album.asp?id=61737          46   \n",
       "1  http://signin.eday.co.uk.ws.edayisapi.dllsign....         128   \n",
       "2  http://www.avevaconstruction.com/blesstool/ima...          52   \n",
       "3                              http://www.jp519.com/          21   \n",
       "4                       https://www.velocidrone.com/          28   \n",
       "\n",
       "   length_hostname    ip  nb_dots nb_hyphens  nb_at  nb_qm  nb_and  nb_or  \\\n",
       "0               20  zero        3       zero      0      1       0      0   \n",
       "1              120     0       10          0      0      0       0      0   \n",
       "2               25     0        3          0      0      0       0      0   \n",
       "3               13     0        2          0      0      0       0      0   \n",
       "4               19     0        2          0      0      0       0      0   \n",
       "\n",
       "   ...  domain_in_title  domain_with_copyright  whois_registered_domain  \\\n",
       "0  ...                1                    one                        0   \n",
       "1  ...                1                   zero                        0   \n",
       "2  ...                1                   zero                        0   \n",
       "3  ...                1                    one                        0   \n",
       "4  ...                0                   zero                        0   \n",
       "\n",
       "   domain_registration_length  domain_age  web_traffic  dns_record  \\\n",
       "0                         627        6678        78526           0   \n",
       "1                         300          65            0           0   \n",
       "2                         119        1707            0           0   \n",
       "3                         130        1331            0           0   \n",
       "4                         164        1662       312044           0   \n",
       "\n",
       "   google_index  page_rank      status  \n",
       "0             0          5    phishing  \n",
       "1             1          0    phishing  \n",
       "2             1          0    phishing  \n",
       "3             0          0  legitimate  \n",
       "4             0          4  legitimate  \n",
       "\n",
       "[5 rows x 89 columns]"
      ]
     },
     "execution_count": 23,
     "metadata": {},
     "output_type": "execute_result"
    }
   ],
   "source": [
    "phishing_data.head()"
   ]
  },
  {
   "cell_type": "code",
   "execution_count": 24,
   "metadata": {},
   "outputs": [
    {
     "data": {
      "text/html": [
       "<div>\n",
       "<style scoped>\n",
       "    .dataframe tbody tr th:only-of-type {\n",
       "        vertical-align: middle;\n",
       "    }\n",
       "\n",
       "    .dataframe tbody tr th {\n",
       "        vertical-align: top;\n",
       "    }\n",
       "\n",
       "    .dataframe thead th {\n",
       "        text-align: right;\n",
       "    }\n",
       "</style>\n",
       "<table border=\"1\" class=\"dataframe\">\n",
       "  <thead>\n",
       "    <tr style=\"text-align: right;\">\n",
       "      <th></th>\n",
       "      <th>url</th>\n",
       "      <th>length_url</th>\n",
       "      <th>length_hostname</th>\n",
       "      <th>ip</th>\n",
       "      <th>nb_dots</th>\n",
       "      <th>nb_hyphens</th>\n",
       "      <th>nb_at</th>\n",
       "      <th>nb_qm</th>\n",
       "      <th>nb_and</th>\n",
       "      <th>nb_or</th>\n",
       "      <th>...</th>\n",
       "      <th>domain_in_title</th>\n",
       "      <th>domain_with_copyright</th>\n",
       "      <th>whois_registered_domain</th>\n",
       "      <th>domain_registration_length</th>\n",
       "      <th>domain_age</th>\n",
       "      <th>web_traffic</th>\n",
       "      <th>dns_record</th>\n",
       "      <th>google_index</th>\n",
       "      <th>page_rank</th>\n",
       "      <th>status</th>\n",
       "    </tr>\n",
       "  </thead>\n",
       "  <tbody>\n",
       "    <tr>\n",
       "      <th>11476</th>\n",
       "      <td>https://623112j4j3.codesandbox.io/index.html</td>\n",
       "      <td>44</td>\n",
       "      <td>25</td>\n",
       "      <td>0</td>\n",
       "      <td>3</td>\n",
       "      <td>0</td>\n",
       "      <td>0</td>\n",
       "      <td>0</td>\n",
       "      <td>0</td>\n",
       "      <td>0</td>\n",
       "      <td>...</td>\n",
       "      <td>0</td>\n",
       "      <td>zero</td>\n",
       "      <td>0</td>\n",
       "      <td>122</td>\n",
       "      <td>1338</td>\n",
       "      <td>22211</td>\n",
       "      <td>0</td>\n",
       "      <td>1</td>\n",
       "      <td>6</td>\n",
       "      <td>phishing</td>\n",
       "    </tr>\n",
       "    <tr>\n",
       "      <th>11477</th>\n",
       "      <td>http://en.academic.ru/dic.nsf/enwiki/279719</td>\n",
       "      <td>43</td>\n",
       "      <td>14</td>\n",
       "      <td>0</td>\n",
       "      <td>3</td>\n",
       "      <td>0</td>\n",
       "      <td>0</td>\n",
       "      <td>0</td>\n",
       "      <td>0</td>\n",
       "      <td>0</td>\n",
       "      <td>...</td>\n",
       "      <td>1</td>\n",
       "      <td>Zero</td>\n",
       "      <td>0</td>\n",
       "      <td>148</td>\n",
       "      <td>7158</td>\n",
       "      <td>2294</td>\n",
       "      <td>0</td>\n",
       "      <td>1</td>\n",
       "      <td>3</td>\n",
       "      <td>legitimate</td>\n",
       "    </tr>\n",
       "    <tr>\n",
       "      <th>11478</th>\n",
       "      <td>http://www.neutralsources.com/-/re.html</td>\n",
       "      <td>39</td>\n",
       "      <td>22</td>\n",
       "      <td>0</td>\n",
       "      <td>3</td>\n",
       "      <td>1</td>\n",
       "      <td>0</td>\n",
       "      <td>0</td>\n",
       "      <td>0</td>\n",
       "      <td>0</td>\n",
       "      <td>...</td>\n",
       "      <td>1</td>\n",
       "      <td>zero</td>\n",
       "      <td>0</td>\n",
       "      <td>161</td>\n",
       "      <td>570</td>\n",
       "      <td>0</td>\n",
       "      <td>0</td>\n",
       "      <td>1</td>\n",
       "      <td>2</td>\n",
       "      <td>phishing</td>\n",
       "    </tr>\n",
       "    <tr>\n",
       "      <th>11479</th>\n",
       "      <td>http://www.pwc.com/gx/en/financial-services/fi...</td>\n",
       "      <td>114</td>\n",
       "      <td>11</td>\n",
       "      <td>0</td>\n",
       "      <td>3</td>\n",
       "      <td>6</td>\n",
       "      <td>0</td>\n",
       "      <td>0</td>\n",
       "      <td>0</td>\n",
       "      <td>0</td>\n",
       "      <td>...</td>\n",
       "      <td>1</td>\n",
       "      <td>one</td>\n",
       "      <td>0</td>\n",
       "      <td>476</td>\n",
       "      <td>6828</td>\n",
       "      <td>5269</td>\n",
       "      <td>0</td>\n",
       "      <td>0</td>\n",
       "      <td>7</td>\n",
       "      <td>legitimate</td>\n",
       "    </tr>\n",
       "    <tr>\n",
       "      <th>11480</th>\n",
       "      <td>http://y9o5m.codesandbox.io/onedrive.html</td>\n",
       "      <td>41</td>\n",
       "      <td>20</td>\n",
       "      <td>0</td>\n",
       "      <td>3</td>\n",
       "      <td>0</td>\n",
       "      <td>0</td>\n",
       "      <td>0</td>\n",
       "      <td>0</td>\n",
       "      <td>0</td>\n",
       "      <td>...</td>\n",
       "      <td>0</td>\n",
       "      <td>zero</td>\n",
       "      <td>0</td>\n",
       "      <td>123</td>\n",
       "      <td>1337</td>\n",
       "      <td>20989</td>\n",
       "      <td>0</td>\n",
       "      <td>1</td>\n",
       "      <td>6</td>\n",
       "      <td>phishing</td>\n",
       "    </tr>\n",
       "  </tbody>\n",
       "</table>\n",
       "<p>5 rows × 89 columns</p>\n",
       "</div>"
      ],
      "text/plain": [
       "                                                     url  length_url  \\\n",
       "11476       https://623112j4j3.codesandbox.io/index.html          44   \n",
       "11477        http://en.academic.ru/dic.nsf/enwiki/279719          43   \n",
       "11478            http://www.neutralsources.com/-/re.html          39   \n",
       "11479  http://www.pwc.com/gx/en/financial-services/fi...         114   \n",
       "11480          http://y9o5m.codesandbox.io/onedrive.html          41   \n",
       "\n",
       "       length_hostname ip  nb_dots nb_hyphens  nb_at  nb_qm  nb_and  nb_or  \\\n",
       "11476               25  0        3          0      0      0       0      0   \n",
       "11477               14  0        3          0      0      0       0      0   \n",
       "11478               22  0        3          1      0      0       0      0   \n",
       "11479               11  0        3          6      0      0       0      0   \n",
       "11480               20  0        3          0      0      0       0      0   \n",
       "\n",
       "       ...  domain_in_title  domain_with_copyright  whois_registered_domain  \\\n",
       "11476  ...                0                   zero                        0   \n",
       "11477  ...                1                   Zero                        0   \n",
       "11478  ...                1                   zero                        0   \n",
       "11479  ...                1                    one                        0   \n",
       "11480  ...                0                   zero                        0   \n",
       "\n",
       "       domain_registration_length  domain_age  web_traffic  dns_record  \\\n",
       "11476                         122        1338        22211           0   \n",
       "11477                         148        7158         2294           0   \n",
       "11478                         161         570            0           0   \n",
       "11479                         476        6828         5269           0   \n",
       "11480                         123        1337        20989           0   \n",
       "\n",
       "       google_index  page_rank      status  \n",
       "11476             1          6    phishing  \n",
       "11477             1          3  legitimate  \n",
       "11478             1          2    phishing  \n",
       "11479             0          7  legitimate  \n",
       "11480             1          6    phishing  \n",
       "\n",
       "[5 rows x 89 columns]"
      ]
     },
     "execution_count": 24,
     "metadata": {},
     "output_type": "execute_result"
    }
   ],
   "source": [
    "phishing_data.tail()"
   ]
  },
  {
   "cell_type": "code",
   "execution_count": 25,
   "metadata": {},
   "outputs": [
    {
     "data": {
      "text/plain": [
       "Index(['url', 'length_url', 'length_hostname', 'ip', 'nb_dots', 'nb_hyphens',\n",
       "       'nb_at', 'nb_qm', 'nb_and', 'nb_or', 'nb_eq', 'nb_underscore',\n",
       "       'nb_tilde', 'nb_percent', 'nb_slash', 'nb_star', 'nb_colon', 'nb_comma',\n",
       "       'nb_semicolumn', 'nb_dollar', 'nb_space', 'nb_www', 'nb_com',\n",
       "       'nb_dslash', 'http_in_path', 'https_token', 'ratio_digits_url',\n",
       "       'ratio_digits_host', 'punycode', 'port', 'tld_in_path',\n",
       "       'tld_in_subdomain', 'abnormal_subdomain', 'nb_subdomains',\n",
       "       'prefix_suffix', 'random_domain', 'shortening_service',\n",
       "       'path_extension', 'nb_redirection', 'nb_external_redirection',\n",
       "       'length_words_raw', 'char_repeat', 'shortest_words_raw',\n",
       "       'shortest_word_host', 'shortest_word_path', 'longest_words_raw',\n",
       "       'longest_word_host', 'longest_word_path', 'avg_words_raw',\n",
       "       'avg_word_host', 'avg_word_path', 'phish_hints', 'domain_in_brand',\n",
       "       'brand_in_subdomain', 'brand_in_path', 'suspecious_tld',\n",
       "       'statistical_report', 'nb_hyperlinks', 'ratio_intHyperlinks',\n",
       "       'ratio_extHyperlinks', 'ratio_nullHyperlinks', 'nb_extCSS',\n",
       "       'ratio_intRedirection', 'ratio_extRedirection', 'ratio_intErrors',\n",
       "       'ratio_extErrors', 'login_form', 'external_favicon', 'links_in_tags',\n",
       "       'submit_email', 'ratio_intMedia', 'ratio_extMedia', 'sfh', 'iframe',\n",
       "       'popup_window', 'safe_anchor', 'onmouseover', 'right_clic',\n",
       "       'empty_title', 'domain_in_title', 'domain_with_copyright',\n",
       "       'whois_registered_domain', 'domain_registration_length', 'domain_age',\n",
       "       'web_traffic', 'dns_record', 'google_index', 'page_rank', 'status'],\n",
       "      dtype='object')"
      ]
     },
     "execution_count": 25,
     "metadata": {},
     "output_type": "execute_result"
    }
   ],
   "source": [
    "#Cherry Picking predictors variables\n",
    "phishing_data.columns"
   ]
  },
  {
   "cell_type": "code",
   "execution_count": 26,
   "metadata": {},
   "outputs": [
    {
     "data": {
      "text/html": [
       "<div>\n",
       "<style scoped>\n",
       "    .dataframe tbody tr th:only-of-type {\n",
       "        vertical-align: middle;\n",
       "    }\n",
       "\n",
       "    .dataframe tbody tr th {\n",
       "        vertical-align: top;\n",
       "    }\n",
       "\n",
       "    .dataframe thead th {\n",
       "        text-align: right;\n",
       "    }\n",
       "</style>\n",
       "<table border=\"1\" class=\"dataframe\">\n",
       "  <thead>\n",
       "    <tr style=\"text-align: right;\">\n",
       "      <th></th>\n",
       "      <th>length_url</th>\n",
       "      <th>length_hostname</th>\n",
       "      <th>nb_dots</th>\n",
       "      <th>nb_at</th>\n",
       "      <th>nb_qm</th>\n",
       "      <th>nb_and</th>\n",
       "      <th>nb_or</th>\n",
       "      <th>nb_eq</th>\n",
       "      <th>nb_underscore</th>\n",
       "      <th>nb_tilde</th>\n",
       "      <th>...</th>\n",
       "      <th>right_clic</th>\n",
       "      <th>empty_title</th>\n",
       "      <th>domain_in_title</th>\n",
       "      <th>whois_registered_domain</th>\n",
       "      <th>domain_registration_length</th>\n",
       "      <th>domain_age</th>\n",
       "      <th>web_traffic</th>\n",
       "      <th>dns_record</th>\n",
       "      <th>google_index</th>\n",
       "      <th>page_rank</th>\n",
       "    </tr>\n",
       "  </thead>\n",
       "  <tbody>\n",
       "    <tr>\n",
       "      <th>count</th>\n",
       "      <td>11481.000000</td>\n",
       "      <td>11481.000000</td>\n",
       "      <td>11481.000000</td>\n",
       "      <td>11481.000000</td>\n",
       "      <td>11481.000000</td>\n",
       "      <td>11481.000000</td>\n",
       "      <td>11481.0</td>\n",
       "      <td>11481.000000</td>\n",
       "      <td>11481.000000</td>\n",
       "      <td>11481.000000</td>\n",
       "      <td>...</td>\n",
       "      <td>11481.000000</td>\n",
       "      <td>11481.000000</td>\n",
       "      <td>11481.000000</td>\n",
       "      <td>11481.000000</td>\n",
       "      <td>11481.000000</td>\n",
       "      <td>11481.000000</td>\n",
       "      <td>1.148100e+04</td>\n",
       "      <td>11481.000000</td>\n",
       "      <td>11481.000000</td>\n",
       "      <td>11481.000000</td>\n",
       "    </tr>\n",
       "    <tr>\n",
       "      <th>mean</th>\n",
       "      <td>61.203902</td>\n",
       "      <td>21.129344</td>\n",
       "      <td>2.496298</td>\n",
       "      <td>0.022124</td>\n",
       "      <td>0.140928</td>\n",
       "      <td>0.168975</td>\n",
       "      <td>0.0</td>\n",
       "      <td>0.299364</td>\n",
       "      <td>0.334117</td>\n",
       "      <td>0.006707</td>\n",
       "      <td>...</td>\n",
       "      <td>0.001394</td>\n",
       "      <td>0.125425</td>\n",
       "      <td>0.773713</td>\n",
       "      <td>0.074122</td>\n",
       "      <td>492.388468</td>\n",
       "      <td>4059.613884</td>\n",
       "      <td>8.630862e+05</td>\n",
       "      <td>0.019598</td>\n",
       "      <td>0.535493</td>\n",
       "      <td>3.190837</td>\n",
       "    </tr>\n",
       "    <tr>\n",
       "      <th>std</th>\n",
       "      <td>56.795786</td>\n",
       "      <td>10.633279</td>\n",
       "      <td>1.421589</td>\n",
       "      <td>0.155721</td>\n",
       "      <td>0.365781</td>\n",
       "      <td>0.871249</td>\n",
       "      <td>0.0</td>\n",
       "      <td>1.040306</td>\n",
       "      <td>1.165724</td>\n",
       "      <td>0.081623</td>\n",
       "      <td>...</td>\n",
       "      <td>0.037307</td>\n",
       "      <td>0.331214</td>\n",
       "      <td>0.418445</td>\n",
       "      <td>0.261981</td>\n",
       "      <td>811.349827</td>\n",
       "      <td>3110.854830</td>\n",
       "      <td>2.000251e+06</td>\n",
       "      <td>0.138619</td>\n",
       "      <td>0.498760</td>\n",
       "      <td>2.531696</td>\n",
       "    </tr>\n",
       "    <tr>\n",
       "      <th>min</th>\n",
       "      <td>13.000000</td>\n",
       "      <td>4.000000</td>\n",
       "      <td>1.000000</td>\n",
       "      <td>0.000000</td>\n",
       "      <td>0.000000</td>\n",
       "      <td>0.000000</td>\n",
       "      <td>0.0</td>\n",
       "      <td>0.000000</td>\n",
       "      <td>0.000000</td>\n",
       "      <td>0.000000</td>\n",
       "      <td>...</td>\n",
       "      <td>0.000000</td>\n",
       "      <td>0.000000</td>\n",
       "      <td>0.000000</td>\n",
       "      <td>0.000000</td>\n",
       "      <td>-1.000000</td>\n",
       "      <td>-12.000000</td>\n",
       "      <td>0.000000e+00</td>\n",
       "      <td>0.000000</td>\n",
       "      <td>0.000000</td>\n",
       "      <td>0.000000</td>\n",
       "    </tr>\n",
       "    <tr>\n",
       "      <th>25%</th>\n",
       "      <td>33.000000</td>\n",
       "      <td>15.000000</td>\n",
       "      <td>2.000000</td>\n",
       "      <td>0.000000</td>\n",
       "      <td>0.000000</td>\n",
       "      <td>0.000000</td>\n",
       "      <td>0.0</td>\n",
       "      <td>0.000000</td>\n",
       "      <td>0.000000</td>\n",
       "      <td>0.000000</td>\n",
       "      <td>...</td>\n",
       "      <td>0.000000</td>\n",
       "      <td>0.000000</td>\n",
       "      <td>1.000000</td>\n",
       "      <td>0.000000</td>\n",
       "      <td>85.000000</td>\n",
       "      <td>966.000000</td>\n",
       "      <td>0.000000e+00</td>\n",
       "      <td>0.000000</td>\n",
       "      <td>0.000000</td>\n",
       "      <td>1.000000</td>\n",
       "    </tr>\n",
       "    <tr>\n",
       "      <th>50%</th>\n",
       "      <td>47.000000</td>\n",
       "      <td>19.000000</td>\n",
       "      <td>2.000000</td>\n",
       "      <td>0.000000</td>\n",
       "      <td>0.000000</td>\n",
       "      <td>0.000000</td>\n",
       "      <td>0.0</td>\n",
       "      <td>0.000000</td>\n",
       "      <td>0.000000</td>\n",
       "      <td>0.000000</td>\n",
       "      <td>...</td>\n",
       "      <td>0.000000</td>\n",
       "      <td>0.000000</td>\n",
       "      <td>1.000000</td>\n",
       "      <td>0.000000</td>\n",
       "      <td>246.000000</td>\n",
       "      <td>4003.000000</td>\n",
       "      <td>2.187000e+03</td>\n",
       "      <td>0.000000</td>\n",
       "      <td>1.000000</td>\n",
       "      <td>3.000000</td>\n",
       "    </tr>\n",
       "    <tr>\n",
       "      <th>75%</th>\n",
       "      <td>71.000000</td>\n",
       "      <td>24.000000</td>\n",
       "      <td>3.000000</td>\n",
       "      <td>0.000000</td>\n",
       "      <td>0.000000</td>\n",
       "      <td>0.000000</td>\n",
       "      <td>0.0</td>\n",
       "      <td>0.000000</td>\n",
       "      <td>0.000000</td>\n",
       "      <td>0.000000</td>\n",
       "      <td>...</td>\n",
       "      <td>0.000000</td>\n",
       "      <td>0.000000</td>\n",
       "      <td>1.000000</td>\n",
       "      <td>0.000000</td>\n",
       "      <td>452.000000</td>\n",
       "      <td>7006.000000</td>\n",
       "      <td>3.733190e+05</td>\n",
       "      <td>0.000000</td>\n",
       "      <td>1.000000</td>\n",
       "      <td>5.000000</td>\n",
       "    </tr>\n",
       "    <tr>\n",
       "      <th>max</th>\n",
       "      <td>1641.000000</td>\n",
       "      <td>214.000000</td>\n",
       "      <td>24.000000</td>\n",
       "      <td>4.000000</td>\n",
       "      <td>3.000000</td>\n",
       "      <td>19.000000</td>\n",
       "      <td>0.0</td>\n",
       "      <td>19.000000</td>\n",
       "      <td>18.000000</td>\n",
       "      <td>1.000000</td>\n",
       "      <td>...</td>\n",
       "      <td>1.000000</td>\n",
       "      <td>1.000000</td>\n",
       "      <td>1.000000</td>\n",
       "      <td>1.000000</td>\n",
       "      <td>29829.000000</td>\n",
       "      <td>12873.000000</td>\n",
       "      <td>1.076799e+07</td>\n",
       "      <td>1.000000</td>\n",
       "      <td>1.000000</td>\n",
       "      <td>10.000000</td>\n",
       "    </tr>\n",
       "  </tbody>\n",
       "</table>\n",
       "<p>8 rows × 84 columns</p>\n",
       "</div>"
      ],
      "text/plain": [
       "         length_url  length_hostname       nb_dots         nb_at  \\\n",
       "count  11481.000000     11481.000000  11481.000000  11481.000000   \n",
       "mean      61.203902        21.129344      2.496298      0.022124   \n",
       "std       56.795786        10.633279      1.421589      0.155721   \n",
       "min       13.000000         4.000000      1.000000      0.000000   \n",
       "25%       33.000000        15.000000      2.000000      0.000000   \n",
       "50%       47.000000        19.000000      2.000000      0.000000   \n",
       "75%       71.000000        24.000000      3.000000      0.000000   \n",
       "max     1641.000000       214.000000     24.000000      4.000000   \n",
       "\n",
       "              nb_qm        nb_and    nb_or         nb_eq  nb_underscore  \\\n",
       "count  11481.000000  11481.000000  11481.0  11481.000000   11481.000000   \n",
       "mean       0.140928      0.168975      0.0      0.299364       0.334117   \n",
       "std        0.365781      0.871249      0.0      1.040306       1.165724   \n",
       "min        0.000000      0.000000      0.0      0.000000       0.000000   \n",
       "25%        0.000000      0.000000      0.0      0.000000       0.000000   \n",
       "50%        0.000000      0.000000      0.0      0.000000       0.000000   \n",
       "75%        0.000000      0.000000      0.0      0.000000       0.000000   \n",
       "max        3.000000     19.000000      0.0     19.000000      18.000000   \n",
       "\n",
       "           nb_tilde  ...    right_clic   empty_title  domain_in_title  \\\n",
       "count  11481.000000  ...  11481.000000  11481.000000     11481.000000   \n",
       "mean       0.006707  ...      0.001394      0.125425         0.773713   \n",
       "std        0.081623  ...      0.037307      0.331214         0.418445   \n",
       "min        0.000000  ...      0.000000      0.000000         0.000000   \n",
       "25%        0.000000  ...      0.000000      0.000000         1.000000   \n",
       "50%        0.000000  ...      0.000000      0.000000         1.000000   \n",
       "75%        0.000000  ...      0.000000      0.000000         1.000000   \n",
       "max        1.000000  ...      1.000000      1.000000         1.000000   \n",
       "\n",
       "       whois_registered_domain  domain_registration_length    domain_age  \\\n",
       "count             11481.000000                11481.000000  11481.000000   \n",
       "mean                  0.074122                  492.388468   4059.613884   \n",
       "std                   0.261981                  811.349827   3110.854830   \n",
       "min                   0.000000                   -1.000000    -12.000000   \n",
       "25%                   0.000000                   85.000000    966.000000   \n",
       "50%                   0.000000                  246.000000   4003.000000   \n",
       "75%                   0.000000                  452.000000   7006.000000   \n",
       "max                   1.000000                29829.000000  12873.000000   \n",
       "\n",
       "        web_traffic    dns_record  google_index     page_rank  \n",
       "count  1.148100e+04  11481.000000  11481.000000  11481.000000  \n",
       "mean   8.630862e+05      0.019598      0.535493      3.190837  \n",
       "std    2.000251e+06      0.138619      0.498760      2.531696  \n",
       "min    0.000000e+00      0.000000      0.000000      0.000000  \n",
       "25%    0.000000e+00      0.000000      0.000000      1.000000  \n",
       "50%    2.187000e+03      0.000000      1.000000      3.000000  \n",
       "75%    3.733190e+05      0.000000      1.000000      5.000000  \n",
       "max    1.076799e+07      1.000000      1.000000     10.000000  \n",
       "\n",
       "[8 rows x 84 columns]"
      ]
     },
     "execution_count": 26,
     "metadata": {},
     "output_type": "execute_result"
    }
   ],
   "source": [
    "phishing_data.describe()"
   ]
  },
  {
   "cell_type": "code",
   "execution_count": 27,
   "metadata": {
    "scrolled": true
   },
   "outputs": [
    {
     "name": "stdout",
     "output_type": "stream",
     "text": [
      "<class 'pandas.core.frame.DataFrame'>\n",
      "RangeIndex: 11481 entries, 0 to 11480\n",
      "Data columns (total 89 columns):\n",
      " #   Column                      Non-Null Count  Dtype  \n",
      "---  ------                      --------------  -----  \n",
      " 0   url                         11481 non-null  object \n",
      " 1   length_url                  11481 non-null  int64  \n",
      " 2   length_hostname             11481 non-null  int64  \n",
      " 3   ip                          11481 non-null  object \n",
      " 4   nb_dots                     11481 non-null  int64  \n",
      " 5   nb_hyphens                  11481 non-null  object \n",
      " 6   nb_at                       11481 non-null  int64  \n",
      " 7   nb_qm                       11481 non-null  int64  \n",
      " 8   nb_and                      11481 non-null  int64  \n",
      " 9   nb_or                       11481 non-null  int64  \n",
      " 10  nb_eq                       11481 non-null  int64  \n",
      " 11  nb_underscore               11481 non-null  int64  \n",
      " 12  nb_tilde                    11481 non-null  int64  \n",
      " 13  nb_percent                  11481 non-null  int64  \n",
      " 14  nb_slash                    11481 non-null  int64  \n",
      " 15  nb_star                     11481 non-null  int64  \n",
      " 16  nb_colon                    11481 non-null  int64  \n",
      " 17  nb_comma                    11481 non-null  int64  \n",
      " 18  nb_semicolumn               11481 non-null  int64  \n",
      " 19  nb_dollar                   11481 non-null  int64  \n",
      " 20  nb_space                    11481 non-null  int64  \n",
      " 21  nb_www                      11481 non-null  int64  \n",
      " 22  nb_com                      11481 non-null  int64  \n",
      " 23  nb_dslash                   11481 non-null  int64  \n",
      " 24  http_in_path                11481 non-null  int64  \n",
      " 25  https_token                 11481 non-null  int64  \n",
      " 26  ratio_digits_url            11481 non-null  float64\n",
      " 27  ratio_digits_host           11481 non-null  float64\n",
      " 28  punycode                    11481 non-null  int64  \n",
      " 29  port                        11481 non-null  int64  \n",
      " 30  tld_in_path                 11481 non-null  int64  \n",
      " 31  tld_in_subdomain            11481 non-null  int64  \n",
      " 32  abnormal_subdomain          11481 non-null  int64  \n",
      " 33  nb_subdomains               11481 non-null  int64  \n",
      " 34  prefix_suffix               11481 non-null  int64  \n",
      " 35  random_domain               11481 non-null  int64  \n",
      " 36  shortening_service          11481 non-null  int64  \n",
      " 37  path_extension              11481 non-null  int64  \n",
      " 38  nb_redirection              11481 non-null  int64  \n",
      " 39  nb_external_redirection     11481 non-null  int64  \n",
      " 40  length_words_raw            11481 non-null  int64  \n",
      " 41  char_repeat                 11481 non-null  int64  \n",
      " 42  shortest_words_raw          11481 non-null  int64  \n",
      " 43  shortest_word_host          11481 non-null  int64  \n",
      " 44  shortest_word_path          11481 non-null  int64  \n",
      " 45  longest_words_raw           11481 non-null  int64  \n",
      " 46  longest_word_host           11481 non-null  int64  \n",
      " 47  longest_word_path           11481 non-null  int64  \n",
      " 48  avg_words_raw               11481 non-null  float64\n",
      " 49  avg_word_host               11481 non-null  float64\n",
      " 50  avg_word_path               11481 non-null  float64\n",
      " 51  phish_hints                 11481 non-null  int64  \n",
      " 52  domain_in_brand             11481 non-null  int64  \n",
      " 53  brand_in_subdomain          11481 non-null  int64  \n",
      " 54  brand_in_path               11481 non-null  int64  \n",
      " 55  suspecious_tld              11481 non-null  int64  \n",
      " 56  statistical_report          11481 non-null  int64  \n",
      " 57  nb_hyperlinks               11481 non-null  int64  \n",
      " 58  ratio_intHyperlinks         11481 non-null  float64\n",
      " 59  ratio_extHyperlinks         11481 non-null  float64\n",
      " 60  ratio_nullHyperlinks        11481 non-null  int64  \n",
      " 61  nb_extCSS                   11481 non-null  int64  \n",
      " 62  ratio_intRedirection        11481 non-null  int64  \n",
      " 63  ratio_extRedirection        11481 non-null  float64\n",
      " 64  ratio_intErrors             11481 non-null  int64  \n",
      " 65  ratio_extErrors             11481 non-null  float64\n",
      " 66  login_form                  11481 non-null  int64  \n",
      " 67  external_favicon            11481 non-null  int64  \n",
      " 68  links_in_tags               11481 non-null  float64\n",
      " 69  submit_email                11481 non-null  int64  \n",
      " 70  ratio_intMedia              11481 non-null  float64\n",
      " 71  ratio_extMedia              11481 non-null  float64\n",
      " 72  sfh                         11481 non-null  int64  \n",
      " 73  iframe                      11481 non-null  int64  \n",
      " 74  popup_window                11481 non-null  int64  \n",
      " 75  safe_anchor                 11481 non-null  float64\n",
      " 76  onmouseover                 11481 non-null  int64  \n",
      " 77  right_clic                  11481 non-null  int64  \n",
      " 78  empty_title                 11481 non-null  int64  \n",
      " 79  domain_in_title             11481 non-null  int64  \n",
      " 80  domain_with_copyright       11481 non-null  object \n",
      " 81  whois_registered_domain     11481 non-null  int64  \n",
      " 82  domain_registration_length  11481 non-null  int64  \n",
      " 83  domain_age                  11481 non-null  int64  \n",
      " 84  web_traffic                 11481 non-null  int64  \n",
      " 85  dns_record                  11481 non-null  int64  \n",
      " 86  google_index                11481 non-null  int64  \n",
      " 87  page_rank                   11481 non-null  int64  \n",
      " 88  status                      11481 non-null  object \n",
      "dtypes: float64(13), int64(71), object(5)\n",
      "memory usage: 7.8+ MB\n"
     ]
    }
   ],
   "source": [
    "phishing_data.info()"
   ]
  },
  {
   "cell_type": "code",
   "execution_count": 35,
   "metadata": {},
   "outputs": [
    {
     "data": {
      "text/plain": [
       "0     9411\n",
       "1     1088\n",
       "2      462\n",
       "3      333\n",
       "4      146\n",
       "5       28\n",
       "6        8\n",
       "10       3\n",
       "7        2\n",
       "Name: phish_hints, dtype: int64"
      ]
     },
     "execution_count": 35,
     "metadata": {},
     "output_type": "execute_result"
    }
   ],
   "source": [
    "phishing_data['phish_hints'].value_counts()"
   ]
  },
  {
   "cell_type": "code",
   "execution_count": 67,
   "metadata": {},
   "outputs": [],
   "source": [
    "#Cherry picking predictor variables\n",
    "predictor_variables = ['length_url', 'length_hostname', 'nb_dots','domain_registration_length', \n",
    "              'domain_with_copyright','google_index','page_rank', 'http_in_path', 'https_token', \n",
    "            'suspecious_tld','statistical_report', 'phish_hints']"
   ]
  },
  {
   "cell_type": "code",
   "execution_count": 37,
   "metadata": {},
   "outputs": [
    {
     "data": {
      "text/plain": [
       "length_url                    0\n",
       "length_hostname               0\n",
       "nb_dots                       0\n",
       "domain_registration_length    0\n",
       "domain_with_copyright         0\n",
       "google_index                  0\n",
       "page_rank                     0\n",
       "http_in_path                  0\n",
       "https_token                   0\n",
       "suspecious_tld                0\n",
       "statistical_report            0\n",
       "phish_hints                   0\n",
       "dtype: int64"
      ]
     },
     "execution_count": 37,
     "metadata": {},
     "output_type": "execute_result"
    }
   ],
   "source": [
    "#checking for null values\n",
    "phishing_data[predictor_variables].isnull().sum()"
   ]
  },
  {
   "cell_type": "code",
   "execution_count": 38,
   "metadata": {},
   "outputs": [
    {
     "name": "stdout",
     "output_type": "stream",
     "text": [
      "<class 'pandas.core.frame.DataFrame'>\n",
      "RangeIndex: 11481 entries, 0 to 11480\n",
      "Data columns (total 12 columns):\n",
      " #   Column                      Non-Null Count  Dtype \n",
      "---  ------                      --------------  ----- \n",
      " 0   length_url                  11481 non-null  int64 \n",
      " 1   length_hostname             11481 non-null  int64 \n",
      " 2   nb_dots                     11481 non-null  int64 \n",
      " 3   domain_registration_length  11481 non-null  int64 \n",
      " 4   domain_with_copyright       11481 non-null  object\n",
      " 5   google_index                11481 non-null  int64 \n",
      " 6   page_rank                   11481 non-null  int64 \n",
      " 7   http_in_path                11481 non-null  int64 \n",
      " 8   https_token                 11481 non-null  int64 \n",
      " 9   suspecious_tld              11481 non-null  int64 \n",
      " 10  statistical_report          11481 non-null  int64 \n",
      " 11  phish_hints                 11481 non-null  int64 \n",
      "dtypes: int64(11), object(1)\n",
      "memory usage: 1.1+ MB\n"
     ]
    }
   ],
   "source": [
    "phishing_data[predictor_variables].info()"
   ]
  },
  {
   "cell_type": "code",
   "execution_count": 40,
   "metadata": {},
   "outputs": [
    {
     "data": {
      "text/html": [
       "<div>\n",
       "<style scoped>\n",
       "    .dataframe tbody tr th:only-of-type {\n",
       "        vertical-align: middle;\n",
       "    }\n",
       "\n",
       "    .dataframe tbody tr th {\n",
       "        vertical-align: top;\n",
       "    }\n",
       "\n",
       "    .dataframe thead th {\n",
       "        text-align: right;\n",
       "    }\n",
       "</style>\n",
       "<table border=\"1\" class=\"dataframe\">\n",
       "  <thead>\n",
       "    <tr style=\"text-align: right;\">\n",
       "      <th></th>\n",
       "      <th>domain_with_copyright</th>\n",
       "    </tr>\n",
       "  </thead>\n",
       "  <tbody>\n",
       "    <tr>\n",
       "      <th>0</th>\n",
       "      <td>one</td>\n",
       "    </tr>\n",
       "    <tr>\n",
       "      <th>1</th>\n",
       "      <td>zero</td>\n",
       "    </tr>\n",
       "    <tr>\n",
       "      <th>2</th>\n",
       "      <td>zero</td>\n",
       "    </tr>\n",
       "    <tr>\n",
       "      <th>3</th>\n",
       "      <td>one</td>\n",
       "    </tr>\n",
       "    <tr>\n",
       "      <th>4</th>\n",
       "      <td>zero</td>\n",
       "    </tr>\n",
       "  </tbody>\n",
       "</table>\n",
       "</div>"
      ],
      "text/plain": [
       "  domain_with_copyright\n",
       "0                   one\n",
       "1                  zero\n",
       "2                  zero\n",
       "3                   one\n",
       "4                  zero"
      ]
     },
     "execution_count": 40,
     "metadata": {},
     "output_type": "execute_result"
    }
   ],
   "source": [
    "phishing_data[predictor_variables].select_dtypes(include = 'object').head()"
   ]
  },
  {
   "cell_type": "code",
   "execution_count": 41,
   "metadata": {},
   "outputs": [
    {
     "data": {
      "text/plain": [
       "zero    5323\n",
       "one     4149\n",
       "Zero    1088\n",
       "One      921\n",
       "Name: domain_with_copyright, dtype: int64"
      ]
     },
     "execution_count": 41,
     "metadata": {},
     "output_type": "execute_result"
    }
   ],
   "source": [
    "phishing_data['domain_with_copyright'].value_counts()"
   ]
  },
  {
   "cell_type": "code",
   "execution_count": 42,
   "metadata": {},
   "outputs": [],
   "source": [
    "#Converting string type to int type\n",
    "phishing_data['domain_with_copyright'] = phishing_data['domain_with_copyright'].replace(['Zero'], 'zero')"
   ]
  },
  {
   "cell_type": "code",
   "execution_count": 43,
   "metadata": {},
   "outputs": [],
   "source": [
    "phishing_data['domain_with_copyright'] = phishing_data['domain_with_copyright'].replace(['One'], 'one')"
   ]
  },
  {
   "cell_type": "code",
   "execution_count": 44,
   "metadata": {},
   "outputs": [
    {
     "data": {
      "text/plain": [
       "zero    6411\n",
       "one     5070\n",
       "Name: domain_with_copyright, dtype: int64"
      ]
     },
     "execution_count": 44,
     "metadata": {},
     "output_type": "execute_result"
    }
   ],
   "source": [
    "phishing_data['domain_with_copyright'].value_counts()"
   ]
  },
  {
   "cell_type": "code",
   "execution_count": 45,
   "metadata": {},
   "outputs": [],
   "source": [
    "from sklearn.preprocessing import LabelEncoder\n",
    "labelEncoder = LabelEncoder()"
   ]
  },
  {
   "cell_type": "code",
   "execution_count": 46,
   "metadata": {},
   "outputs": [],
   "source": [
    "phishing_data['domain_with_copyright'] = labelEncoder.fit_transform(phishing_data['domain_with_copyright'])"
   ]
  },
  {
   "cell_type": "code",
   "execution_count": 47,
   "metadata": {},
   "outputs": [
    {
     "data": {
      "text/plain": [
       "1    6411\n",
       "0    5070\n",
       "Name: domain_with_copyright, dtype: int64"
      ]
     },
     "execution_count": 47,
     "metadata": {},
     "output_type": "execute_result"
    }
   ],
   "source": [
    "phishing_data['domain_with_copyright'].value_counts()"
   ]
  },
  {
   "cell_type": "markdown",
   "metadata": {},
   "source": [
    "# EDA PART"
   ]
  },
  {
   "cell_type": "code",
   "execution_count": 54,
   "metadata": {},
   "outputs": [
    {
     "data": {
      "text/plain": [
       "<matplotlib.axes._subplots.AxesSubplot at 0x2b867458fc8>"
      ]
     },
     "execution_count": 54,
     "metadata": {},
     "output_type": "execute_result"
    },
    {
     "data": {
      "image/png": "[encoded data removed]",
      "text/plain": [
       "<Figure size 720x360 with 1 Axes>"
      ]
     },
     "metadata": {
      "needs_background": "light"
     },
     "output_type": "display_data"
    }
   ],
   "source": [
    "plt.figure(figsize=(10,5))\n",
    "plt.xlabel('Domain with Copyright')\n",
    "plt.ylabel('Count')\n",
    "plt.title('Count of Domains with copyright')\n",
    "phishing_data['domain_with_copyright'].value_counts().plot(kind='bar', color='red')"
   ]
  },
  {
   "cell_type": "code",
   "execution_count": 56,
   "metadata": {},
   "outputs": [
    {
     "data": {
      "text/plain": [
       "<matplotlib.axes._subplots.AxesSubplot at 0x2b86753b3c8>"
      ]
     },
     "execution_count": 56,
     "metadata": {},
     "output_type": "execute_result"
    },
    {
     "data": {
      "image/png": "[encoded data removed]",
      "text/plain": [
       "<Figure size 720x360 with 1 Axes>"
      ]
     },
     "metadata": {
      "needs_background": "light"
     },
     "output_type": "display_data"
    }
   ],
   "source": [
    "plt.figure(figsize=(10,5))\n",
    "plt.xlabel('Phishing Hints')\n",
    "plt.ylabel('Count')\n",
    "plt.title('Count of Phishing hints')\n",
    "phishing_data['phish_hints'].value_counts().plot(kind='bar', color='red')"
   ]
  },
  {
   "cell_type": "code",
   "execution_count": 58,
   "metadata": {},
   "outputs": [
    {
     "data": {
      "text/plain": [
       "<matplotlib.axes._subplots.AxesSubplot at 0x2b867363c08>"
      ]
     },
     "execution_count": 58,
     "metadata": {},
     "output_type": "execute_result"
    },
    {
     "data": {
      "image/png": "[encoded data removed]",
      "text/plain": [
       "<Figure size 720x360 with 1 Axes>"
      ]
     },
     "metadata": {
      "needs_background": "light"
     },
     "output_type": "display_data"
    }
   ],
   "source": [
    "plt.figure(figsize=(10,5))\n",
    "plt.xlabel('Suspecious TLD')\n",
    "plt.ylabel('Count')\n",
    "plt.title('Count of Suspecious TLD')\n",
    "phishing_data['suspecious_tld'].value_counts().plot(kind='bar', color='red')"
   ]
  },
  {
   "cell_type": "code",
   "execution_count": 59,
   "metadata": {},
   "outputs": [
    {
     "data": {
      "text/plain": [
       "<matplotlib.axes._subplots.AxesSubplot at 0x2b86777c388>"
      ]
     },
     "execution_count": 59,
     "metadata": {},
     "output_type": "execute_result"
    },
    {
     "data": {
      "image/png": "[encoded data removed]",
      "text/plain": [
       "<Figure size 720x360 with 1 Axes>"
      ]
     },
     "metadata": {
      "needs_background": "light"
     },
     "output_type": "display_data"
    }
   ],
   "source": [
    "plt.figure(figsize=(10,5))\n",
    "plt.xlabel('Google Indexes')\n",
    "plt.ylabel('Count')\n",
    "plt.title('Count of Google Indexes')\n",
    "phishing_data['google_index'].value_counts().plot(kind='bar', color='red')"
   ]
  },
  {
   "cell_type": "code",
   "execution_count": 60,
   "metadata": {},
   "outputs": [
    {
     "data": {
      "text/plain": [
       "<matplotlib.axes._subplots.AxesSubplot at 0x2b867867408>"
      ]
     },
     "execution_count": 60,
     "metadata": {},
     "output_type": "execute_result"
    },
    {
     "data": {
      "image/png": "[encoded data removed]",
      "text/plain": [
       "<Figure size 720x360 with 1 Axes>"
      ]
     },
     "metadata": {
      "needs_background": "light"
     },
     "output_type": "display_data"
    }
   ],
   "source": [
    "plt.figure(figsize=(10,5))\n",
    "plt.xlabel('Page Ranks')\n",
    "plt.ylabel('Count')\n",
    "plt.title('Count of Page Ranks')\n",
    "phishing_data['page_rank'].value_counts().plot(kind='bar', color='red')"
   ]
  },
  {
   "cell_type": "code",
   "execution_count": 61,
   "metadata": {},
   "outputs": [
    {
     "data": {
      "text/plain": [
       "<matplotlib.axes._subplots.AxesSubplot at 0x2b868932ac8>"
      ]
     },
     "execution_count": 61,
     "metadata": {},
     "output_type": "execute_result"
    },
    {
     "data": {
      "image/png": "[encoded data removed]",
      "text/plain": [
       "<Figure size 720x360 with 1 Axes>"
      ]
     },
     "metadata": {
      "needs_background": "light"
     },
     "output_type": "display_data"
    }
   ],
   "source": [
    "plt.figure(figsize=(10,5))\n",
    "plt.xlabel('HTTPS Tokens')\n",
    "plt.ylabel('Count')\n",
    "plt.title('Count of HTTPS Tokens')\n",
    "phishing_data['https_token'].value_counts().plot(kind='bar', color='red')"
   ]
  },
  {
   "cell_type": "markdown",
   "metadata": {},
   "source": [
    "# Partitioning the data set"
   ]
  },
  {
   "cell_type": "code",
   "execution_count": 68,
   "metadata": {},
   "outputs": [],
   "source": [
    "X = phishing_data[predictor_variables]"
   ]
  },
  {
   "cell_type": "code",
   "execution_count": 69,
   "metadata": {},
   "outputs": [
    {
     "data": {
      "text/plain": [
       "Index(['length_url', 'length_hostname', 'nb_dots',\n",
       "       'domain_registration_length', 'domain_with_copyright', 'google_index',\n",
       "       'page_rank', 'http_in_path', 'https_token', 'suspecious_tld',\n",
       "       'statistical_report', 'phish_hints'],\n",
       "      dtype='object')"
      ]
     },
     "execution_count": 69,
     "metadata": {},
     "output_type": "execute_result"
    }
   ],
   "source": [
    "X.columns"
   ]
  },
  {
   "cell_type": "code",
   "execution_count": 70,
   "metadata": {},
   "outputs": [],
   "source": [
    "y = phishing_data['status']"
   ]
  },
  {
   "cell_type": "code",
   "execution_count": 71,
   "metadata": {},
   "outputs": [
    {
     "data": {
      "text/plain": [
       "0      phishing\n",
       "1      phishing\n",
       "2      phishing\n",
       "3    legitimate\n",
       "4    legitimate\n",
       "Name: status, dtype: object"
      ]
     },
     "execution_count": 71,
     "metadata": {},
     "output_type": "execute_result"
    }
   ],
   "source": [
    "y.head()"
   ]
  },
  {
   "cell_type": "code",
   "execution_count": 74,
   "metadata": {},
   "outputs": [],
   "source": [
    "from sklearn.model_selection import train_test_split"
   ]
  },
  {
   "cell_type": "code",
   "execution_count": 75,
   "metadata": {},
   "outputs": [],
   "source": [
    "X_train, X_test, y_train, y_test = train_test_split(X, y, test_size=0.3)"
   ]
  },
  {
   "cell_type": "markdown",
   "metadata": {},
   "source": [
    "# Importing test data set"
   ]
  },
  {
   "cell_type": "code",
   "execution_count": 77,
   "metadata": {},
   "outputs": [],
   "source": [
    "test_data = pd.read_csv('https://raw.githubusercontent.com/dphi-official/Datasets/master/phishing_data/Testing_set_label.csv')"
   ]
  },
  {
   "cell_type": "code",
   "execution_count": 78,
   "metadata": {},
   "outputs": [],
   "source": [
    "test_data = test_data[predictor_variables]"
   ]
  },
  {
   "cell_type": "code",
   "execution_count": 79,
   "metadata": {},
   "outputs": [
    {
     "data": {
      "text/plain": [
       "Index(['length_url', 'length_hostname', 'nb_dots',\n",
       "       'domain_registration_length', 'domain_with_copyright', 'google_index',\n",
       "       'page_rank', 'http_in_path', 'https_token', 'suspecious_tld',\n",
       "       'statistical_report', 'phish_hints'],\n",
       "      dtype='object')"
      ]
     },
     "execution_count": 79,
     "metadata": {},
     "output_type": "execute_result"
    }
   ],
   "source": [
    "test_data.columns"
   ]
  },
  {
   "cell_type": "code",
   "execution_count": 80,
   "metadata": {},
   "outputs": [
    {
     "name": "stdout",
     "output_type": "stream",
     "text": [
      "<class 'pandas.core.frame.DataFrame'>\n",
      "RangeIndex: 3429 entries, 0 to 3428\n",
      "Data columns (total 12 columns):\n",
      " #   Column                      Non-Null Count  Dtype \n",
      "---  ------                      --------------  ----- \n",
      " 0   length_url                  3429 non-null   int64 \n",
      " 1   length_hostname             3429 non-null   int64 \n",
      " 2   nb_dots                     3429 non-null   int64 \n",
      " 3   domain_registration_length  3429 non-null   int64 \n",
      " 4   domain_with_copyright       3429 non-null   object\n",
      " 5   google_index                3429 non-null   int64 \n",
      " 6   page_rank                   3429 non-null   int64 \n",
      " 7   http_in_path                3429 non-null   int64 \n",
      " 8   https_token                 3429 non-null   int64 \n",
      " 9   suspecious_tld              3429 non-null   int64 \n",
      " 10  statistical_report          3429 non-null   int64 \n",
      " 11  phish_hints                 3429 non-null   int64 \n",
      "dtypes: int64(11), object(1)\n",
      "memory usage: 321.6+ KB\n"
     ]
    }
   ],
   "source": [
    "test_data.info()"
   ]
  },
  {
   "cell_type": "code",
   "execution_count": 81,
   "metadata": {},
   "outputs": [],
   "source": [
    "#Converting 'domain_with_copyright' object to int64\n",
    "test_data['domain_with_copyright'] = test_data['domain_with_copyright'].replace(['Zero'], 'zero')\n",
    "test_data['domain_with_copyright'] = test_data['domain_with_copyright'].replace(['One'], 'one')\n",
    "test_data['domain_with_copyright'] = labelEncoder.fit_transform(test_data['domain_with_copyright'])"
   ]
  },
  {
   "cell_type": "code",
   "execution_count": 82,
   "metadata": {},
   "outputs": [
    {
     "data": {
      "text/plain": [
       "1    1936\n",
       "0    1493\n",
       "Name: domain_with_copyright, dtype: int64"
      ]
     },
     "execution_count": 82,
     "metadata": {},
     "output_type": "execute_result"
    }
   ],
   "source": [
    "test_data['domain_with_copyright'].value_counts()"
   ]
  },
  {
   "cell_type": "markdown",
   "metadata": {},
   "source": [
    "# Decision Tree Classifier"
   ]
  },
  {
   "cell_type": "code",
   "execution_count": 83,
   "metadata": {},
   "outputs": [],
   "source": [
    "from sklearn.tree import DecisionTreeClassifier\n",
    "dTree = DecisionTreeClassifier()"
   ]
  },
  {
   "cell_type": "code",
   "execution_count": 84,
   "metadata": {},
   "outputs": [
    {
     "data": {
      "text/plain": [
       "DecisionTreeClassifier(ccp_alpha=0.0, class_weight=None, criterion='gini',\n",
       "                       max_depth=None, max_features=None, max_leaf_nodes=None,\n",
       "                       min_impurity_decrease=0.0, min_impurity_split=None,\n",
       "                       min_samples_leaf=1, min_samples_split=2,\n",
       "                       min_weight_fraction_leaf=0.0, presort='deprecated',\n",
       "                       random_state=None, splitter='best')"
      ]
     },
     "execution_count": 84,
     "metadata": {},
     "output_type": "execute_result"
    }
   ],
   "source": [
    "dTree.fit(X_train, y_train)"
   ]
  },
  {
   "cell_type": "code",
   "execution_count": 85,
   "metadata": {},
   "outputs": [],
   "source": [
    "y_preds = dTree.predict(X_test)"
   ]
  },
  {
   "cell_type": "code",
   "execution_count": 98,
   "metadata": {},
   "outputs": [],
   "source": [
    "from sklearn.metrics import confusion_matrix, classification_report, accuracy_score"
   ]
  },
  {
   "cell_type": "code",
   "execution_count": 87,
   "metadata": {},
   "outputs": [
    {
     "name": "stdout",
     "output_type": "stream",
     "text": [
      "[[1666   77]\n",
      " [  82 1620]]\n"
     ]
    }
   ],
   "source": [
    "print(confusion_matrix(y_test, y_preds))"
   ]
  },
  {
   "cell_type": "code",
   "execution_count": 88,
   "metadata": {},
   "outputs": [
    {
     "name": "stdout",
     "output_type": "stream",
     "text": [
      "              precision    recall  f1-score   support\n",
      "\n",
      "  legitimate       0.95      0.96      0.95      1743\n",
      "    phishing       0.95      0.95      0.95      1702\n",
      "\n",
      "    accuracy                           0.95      3445\n",
      "   macro avg       0.95      0.95      0.95      3445\n",
      "weighted avg       0.95      0.95      0.95      3445\n",
      "\n"
     ]
    }
   ],
   "source": [
    "print(classification_report(y_test, y_preds))"
   ]
  },
  {
   "cell_type": "code",
   "execution_count": 94,
   "metadata": {},
   "outputs": [
    {
     "name": "stdout",
     "output_type": "stream",
     "text": [
      "Accuracy Score:  95.38\n"
     ]
    }
   ],
   "source": [
    "print(\"Accuracy Score: \", round(accuracy_score(y_test, y_preds) * 100, 2))"
   ]
  },
  {
   "cell_type": "markdown",
   "metadata": {},
   "source": [
    "# Random Forest Classifier"
   ]
  },
  {
   "cell_type": "code",
   "execution_count": 95,
   "metadata": {},
   "outputs": [],
   "source": [
    "from sklearn.ensemble import RandomForestClassifier\n",
    "rfc = RandomForestClassifier(n_estimators=100)"
   ]
  },
  {
   "cell_type": "code",
   "execution_count": 97,
   "metadata": {},
   "outputs": [
    {
     "data": {
      "text/plain": [
       "RandomForestClassifier(bootstrap=True, ccp_alpha=0.0, class_weight=None,\n",
       "                       criterion='gini', max_depth=None, max_features='auto',\n",
       "                       max_leaf_nodes=None, max_samples=None,\n",
       "                       min_impurity_decrease=0.0, min_impurity_split=None,\n",
       "                       min_samples_leaf=1, min_samples_split=2,\n",
       "                       min_weight_fraction_leaf=0.0, n_estimators=100,\n",
       "                       n_jobs=None, oob_score=False, random_state=None,\n",
       "                       verbose=0, warm_start=False)"
      ]
     },
     "execution_count": 97,
     "metadata": {},
     "output_type": "execute_result"
    }
   ],
   "source": [
    "rfc.fit(X_train, y_train)"
   ]
  },
  {
   "cell_type": "code",
   "execution_count": 100,
   "metadata": {},
   "outputs": [],
   "source": [
    "y_preds_rfc = rfc.predict(X_test)"
   ]
  },
  {
   "cell_type": "code",
   "execution_count": 101,
   "metadata": {},
   "outputs": [
    {
     "name": "stdout",
     "output_type": "stream",
     "text": [
      "[[1685   58]\n",
      " [  58 1644]]\n"
     ]
    }
   ],
   "source": [
    "print(confusion_matrix(y_test, y_preds_rfc))"
   ]
  },
  {
   "cell_type": "code",
   "execution_count": 102,
   "metadata": {},
   "outputs": [
    {
     "name": "stdout",
     "output_type": "stream",
     "text": [
      "              precision    recall  f1-score   support\n",
      "\n",
      "  legitimate       0.97      0.97      0.97      1743\n",
      "    phishing       0.97      0.97      0.97      1702\n",
      "\n",
      "    accuracy                           0.97      3445\n",
      "   macro avg       0.97      0.97      0.97      3445\n",
      "weighted avg       0.97      0.97      0.97      3445\n",
      "\n"
     ]
    }
   ],
   "source": [
    "print(classification_report(y_test, y_preds_rfc))"
   ]
  },
  {
   "cell_type": "code",
   "execution_count": 103,
   "metadata": {},
   "outputs": [
    {
     "name": "stdout",
     "output_type": "stream",
     "text": [
      "Accuracy Score:  96.63\n"
     ]
    }
   ],
   "source": [
    "print(\"Accuracy Score: \", round(accuracy_score(y_test, y_preds_rfc) * 100, 2))"
   ]
  },
  {
   "cell_type": "markdown",
   "metadata": {},
   "source": [
    "# Conclusion"
   ]
  },
  {
   "cell_type": "markdown",
   "metadata": {},
   "source": [
    "## ~ We can see that the Random Forest classifier has performed well than Decision Tree Classifier."
   ]
  },
  {
   "cell_type": "code",
   "execution_count": null,
   "metadata": {},
   "outputs": [],
   "source": []
  }
 ],
 "metadata": {
  "kernelspec": {
   "display_name": "Python 3",
   "language": "python",
   "name": "python3"
  },
  "language_info": {
   "codemirror_mode": {
    "name": "ipython",
    "version": 3
   },
   "file_extension": ".py",
   "mimetype": "text/x-python",
   "name": "python",
   "nbconvert_exporter": "python",
   "pygments_lexer": "ipython3",
   "version": "3.7.6"
  }
 },
 "nbformat": 4,
 "nbformat_minor": 4
}
